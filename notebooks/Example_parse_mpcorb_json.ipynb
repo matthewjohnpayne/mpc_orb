{
 "cells": [
  {
   "cell_type": "markdown",
   "metadata": {},
   "source": [
    "# Notebook to illustrate the usage of the parse.MPCORB class to read the contents of \"mpcorb.json\" files\n",
    "\n",
    "MJP: 2021-02-04\n"
   ]
  },
  {
   "cell_type": "markdown",
   "metadata": {},
   "source": [
    "### Import the MPCORB class from the parse module in the mpc_orb directory ..."
   ]
  },
  {
   "cell_type": "code",
   "execution_count": 5,
   "metadata": {},
   "outputs": [],
   "source": [
    "# Import the MPCORB class from the parse module in the mpc_orb directory ...\n",
    "from os.path import join, dirname, abspath\n",
    "\n",
    "import sys\n",
    "pack_dir  = dirname(abspath('')) # Package directory\n",
    "code_dir  = join(pack_dir, 'mpc_orb')\n",
    "sys.path.append(code_dir)\n",
    "\n",
    "from parse import MPCORB\n"
   ]
  },
  {
   "cell_type": "markdown",
   "metadata": {},
   "source": [
    "### Define a filepath to an example json file in the mpcorb format "
   ]
  },
  {
   "cell_type": "code",
   "execution_count": 7,
   "metadata": {},
   "outputs": [
    {
     "ename": "IndexError",
     "evalue": "list index out of range",
     "output_type": "error",
     "traceback": [
      "\u001b[0;31m---------------------------------------------------------------------------\u001b[0m",
      "\u001b[0;31mIndexError\u001b[0m                                Traceback (most recent call last)",
      "\u001b[0;32m<ipython-input-7-8f59b10b13e4>\u001b[0m in \u001b[0;36m<module>\u001b[0;34m\u001b[0m\n\u001b[1;32m      2\u001b[0m \u001b[0;32mimport\u001b[0m \u001b[0mglob\u001b[0m\u001b[0;34m\u001b[0m\u001b[0;34m\u001b[0m\u001b[0m\n\u001b[1;32m      3\u001b[0m \u001b[0mjsn_dir\u001b[0m  \u001b[0;34m=\u001b[0m \u001b[0mjoin\u001b[0m\u001b[0;34m(\u001b[0m\u001b[0mpack_dir\u001b[0m\u001b[0;34m,\u001b[0m \u001b[0;34m'test_jsons'\u001b[0m\u001b[0;34m,\u001b[0m \u001b[0;34m'pass_mpcorb'\u001b[0m\u001b[0;34m)\u001b[0m\u001b[0;34m\u001b[0m\u001b[0;34m\u001b[0m\u001b[0m\n\u001b[0;32m----> 4\u001b[0;31m \u001b[0mfilepath\u001b[0m \u001b[0;34m=\u001b[0m \u001b[0mglob\u001b[0m\u001b[0;34m.\u001b[0m\u001b[0mglob\u001b[0m\u001b[0;34m(\u001b[0m\u001b[0mjsn_dir\u001b[0m \u001b[0;34m+\u001b[0m \u001b[0;34m'/*json'\u001b[0m\u001b[0;34m)\u001b[0m\u001b[0;34m[\u001b[0m\u001b[0;36m0\u001b[0m\u001b[0;34m]\u001b[0m\u001b[0;34m\u001b[0m\u001b[0;34m\u001b[0m\u001b[0m\n\u001b[0m\u001b[1;32m      5\u001b[0m \u001b[0mprint\u001b[0m\u001b[0;34m(\u001b[0m\u001b[0mfilepath\u001b[0m\u001b[0;34m)\u001b[0m\u001b[0;34m\u001b[0m\u001b[0;34m\u001b[0m\u001b[0m\n",
      "\u001b[0;31mIndexError\u001b[0m: list index out of range"
     ]
    }
   ],
   "source": [
    "### Define a filepath to an example json file in the mpcorb format \n",
    "import glob \n",
    "jsn_dir  = join(pack_dir, 'test_jsons', 'pass_mpcorb')\n",
    "filepath = glob.glob(jsn_dir + '/*json')[0]\n",
    "print(filepath)"
   ]
  },
  {
   "cell_type": "markdown",
   "metadata": {},
   "source": [
    "### Instantiate an MPCORB object & use it to parse the above json file"
   ]
  },
  {
   "cell_type": "code",
   "execution_count": null,
   "metadata": {},
   "outputs": [],
   "source": [
    "### Instantiate an MPCORB object & use it to parse the above json file\n",
    "### NB The parsing is done by default \"behind-the-scenes\" upon instantiation\n",
    "M = MPCORB(filepath)\n",
    "\n",
    "# Demonstrate the available variables\n",
    "for k,v in M.__dict__.items(): \n",
    "    print(k,v)\n",
    "\n",
    "# Demonstrate the key-value pairs available in the \"COM\" coordinate dictionary\n",
    "for k,v in M.COM.items(): \n",
    "    print(k,v)\n"
   ]
  }
 ],
 "metadata": {
  "kernelspec": {
   "display_name": "Python 3",
   "language": "python",
   "name": "python3"
  },
  "language_info": {
   "codemirror_mode": {
    "name": "ipython",
    "version": 3
   },
   "file_extension": ".py",
   "mimetype": "text/x-python",
   "name": "python",
   "nbconvert_exporter": "python",
   "pygments_lexer": "ipython3",
   "version": "3.8.3"
  }
 },
 "nbformat": 4,
 "nbformat_minor": 4
}
